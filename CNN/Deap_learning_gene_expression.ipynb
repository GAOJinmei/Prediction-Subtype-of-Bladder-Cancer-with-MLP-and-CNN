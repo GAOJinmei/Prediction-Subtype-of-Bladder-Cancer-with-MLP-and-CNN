{
 "cells": [
  {
   "cell_type": "markdown",
   "id": "a839fed1-7302-4e1f-8c1c-1c35cbaa9e31",
   "metadata": {},
   "source": [
    "# CNN FOR CANCER DETECTION WITH GENE EXPRESSION "
   ]
  },
  {
   "cell_type": "code",
   "execution_count": 1,
   "id": "7ff333c5-f2f8-415d-afca-5124852b6de2",
   "metadata": {},
   "outputs": [],
   "source": [
    "import pandas as pd\n",
    "import matplotlib.pyplot as plt\n",
    "import seaborn as sns\n",
    "import matplotlib.pyplot as plt\n",
    "from sklearn import preprocessing\n",
    "from keras.utils import np_utils\n",
    "from sklearn.model_selection import train_test_split\n",
    "import tensorflow as tf\n",
    "from keras import layers\n",
    "from sklearn.datasets import make_blobs\n",
    "# from tensorflow.keras.optimizers import SGD, Adam\n",
    "from keras.models import Sequential\n",
    "from keras.layers import Input, Dense, Activation\n",
    "import numpy as np\n",
    "from sklearn.preprocessing import OrdinalEncoder"
   ]
  },
  {
   "cell_type": "markdown",
   "id": "747178ef-751b-4e9a-9304-d89792372caf",
   "metadata": {},
   "source": [
    "#### ordered gene expression dataset"
   ]
  },
  {
   "cell_type": "code",
   "execution_count": 2,
   "id": "39f6f7a1-6775-46e2-8fa9-0cf3d4030f6e",
   "metadata": {},
   "outputs": [
    {
     "name": "stdout",
     "output_type": "stream",
     "text": [
      "there is 427 patient for 17323 gene , no extensive quality control yet\n"
     ]
    }
   ],
   "source": [
    "df1 = pd.read_csv('D:/ROSALIND_problems/Deep_learning_project/gene_data_ordered.csv',sep=';')\n",
    "df1.head()\n",
    "df1.shape\n",
    "print('there is {} patient for {} gene , no extensive quality control yet'.format(df1.shape[0],df1.shape[1]))"
   ]
  },
  {
   "cell_type": "code",
   "execution_count": 3,
   "id": "783b0d58-8805-4000-b959-7340a0abcf59",
   "metadata": {},
   "outputs": [],
   "source": [
    "# rename the first column as barcode\n",
    "#df1.rename(columns = {\"Unnamed: 0\":\"barcode\"},inplace = True)"
   ]
  },
  {
   "cell_type": "markdown",
   "id": "bf2756eb-fddc-4d15-8b25-80eb8f8ac5bf",
   "metadata": {},
   "source": [
    "#### Patient data with cancer label for each patient ( barcode) "
   ]
  },
  {
   "cell_type": "code",
   "execution_count": 3,
   "id": "7eea95b4-a048-4b0e-a120-c52a2f6936b7",
   "metadata": {
    "tags": []
   },
   "outputs": [
    {
     "data": {
      "text/html": [
       "<div>\n",
       "<style scoped>\n",
       "    .dataframe tbody tr th:only-of-type {\n",
       "        vertical-align: middle;\n",
       "    }\n",
       "\n",
       "    .dataframe tbody tr th {\n",
       "        vertical-align: top;\n",
       "    }\n",
       "\n",
       "    .dataframe thead th {\n",
       "        text-align: right;\n",
       "    }\n",
       "</style>\n",
       "<table border=\"1\" class=\"dataframe\">\n",
       "  <thead>\n",
       "    <tr style=\"text-align: right;\">\n",
       "      <th></th>\n",
       "      <th>Unnamed: 0</th>\n",
       "      <th>barcode</th>\n",
       "      <th>patient</th>\n",
       "      <th>sample</th>\n",
       "      <th>shortLetterCode</th>\n",
       "      <th>definition</th>\n",
       "      <th>sample_submitter_id</th>\n",
       "      <th>sample_type_id</th>\n",
       "      <th>tumor_descriptor</th>\n",
       "      <th>sample_id</th>\n",
       "      <th>...</th>\n",
       "      <th>paper_focal.deletion.in.PTPRD</th>\n",
       "      <th>paper_focal.deletion.in.KDM6A</th>\n",
       "      <th>paper_Neoantigen.load</th>\n",
       "      <th>paper_HLA.mutation</th>\n",
       "      <th>paper_Fusion.in.FGFR3</th>\n",
       "      <th>paper_Fusion.in.PPARG</th>\n",
       "      <th>paper_Fusion.in.PTPN13</th>\n",
       "      <th>paper_Fusion.in.RHOA</th>\n",
       "      <th>paper_Fusion.in.TNFRSF21</th>\n",
       "      <th>paper_Fusion.in.ASIP</th>\n",
       "    </tr>\n",
       "  </thead>\n",
       "  <tbody>\n",
       "    <tr>\n",
       "      <th>0</th>\n",
       "      <td>1</td>\n",
       "      <td>TCGA-CF-A1HS-01A-11R-A13Y-07</td>\n",
       "      <td>TCGA-CF-A1HS</td>\n",
       "      <td>TCGA-CF-A1HS-01A</td>\n",
       "      <td>TP</td>\n",
       "      <td>Primary solid Tumor</td>\n",
       "      <td>TCGA-CF-A1HS-01A</td>\n",
       "      <td>1</td>\n",
       "      <td>Not Reported</td>\n",
       "      <td>0a01e5ba-5549-4027-9e84-1bbb163a8f07</td>\n",
       "      <td>...</td>\n",
       "      <td>.</td>\n",
       "      <td>.</td>\n",
       "      <td>791.0</td>\n",
       "      <td>NaN</td>\n",
       "      <td>no</td>\n",
       "      <td>no</td>\n",
       "      <td>no</td>\n",
       "      <td>no</td>\n",
       "      <td>no</td>\n",
       "      <td>no</td>\n",
       "    </tr>\n",
       "    <tr>\n",
       "      <th>1</th>\n",
       "      <td>2</td>\n",
       "      <td>TCGA-GD-A3OQ-11A-21R-A220-07</td>\n",
       "      <td>TCGA-GD-A3OQ</td>\n",
       "      <td>TCGA-GD-A3OQ-11A</td>\n",
       "      <td>NT</td>\n",
       "      <td>Solid Tissue Normal</td>\n",
       "      <td>TCGA-GD-A3OQ-11A</td>\n",
       "      <td>11</td>\n",
       "      <td>NaN</td>\n",
       "      <td>fa1b5772-8254-49ba-a385-af8c9ac7fa4f</td>\n",
       "      <td>...</td>\n",
       "      <td>NaN</td>\n",
       "      <td>NaN</td>\n",
       "      <td>NaN</td>\n",
       "      <td>NaN</td>\n",
       "      <td>NaN</td>\n",
       "      <td>NaN</td>\n",
       "      <td>NaN</td>\n",
       "      <td>NaN</td>\n",
       "      <td>NaN</td>\n",
       "      <td>NaN</td>\n",
       "    </tr>\n",
       "    <tr>\n",
       "      <th>2</th>\n",
       "      <td>3</td>\n",
       "      <td>TCGA-ZF-A9R2-01A-11R-A39I-07</td>\n",
       "      <td>TCGA-ZF-A9R2</td>\n",
       "      <td>TCGA-ZF-A9R2-01A</td>\n",
       "      <td>TP</td>\n",
       "      <td>Primary solid Tumor</td>\n",
       "      <td>TCGA-ZF-A9R2-01A</td>\n",
       "      <td>1</td>\n",
       "      <td>NaN</td>\n",
       "      <td>d0027b26-44ea-4276-9ad4-e0c47a4564e9</td>\n",
       "      <td>...</td>\n",
       "      <td>Loss</td>\n",
       "      <td>.</td>\n",
       "      <td>400.0</td>\n",
       "      <td>NaN</td>\n",
       "      <td>no</td>\n",
       "      <td>no</td>\n",
       "      <td>no</td>\n",
       "      <td>no</td>\n",
       "      <td>no</td>\n",
       "      <td>no</td>\n",
       "    </tr>\n",
       "    <tr>\n",
       "      <th>3</th>\n",
       "      <td>4</td>\n",
       "      <td>TCGA-KQ-A41N-01A-11R-A33J-07</td>\n",
       "      <td>TCGA-KQ-A41N</td>\n",
       "      <td>TCGA-KQ-A41N-01A</td>\n",
       "      <td>TP</td>\n",
       "      <td>Primary solid Tumor</td>\n",
       "      <td>TCGA-KQ-A41N-01A</td>\n",
       "      <td>1</td>\n",
       "      <td>NaN</td>\n",
       "      <td>85d9b3ae-d14a-445f-83bf-e4a9f9b076b8</td>\n",
       "      <td>...</td>\n",
       "      <td>.</td>\n",
       "      <td>.</td>\n",
       "      <td>880.0</td>\n",
       "      <td>NaN</td>\n",
       "      <td>no</td>\n",
       "      <td>no</td>\n",
       "      <td>no</td>\n",
       "      <td>no</td>\n",
       "      <td>no</td>\n",
       "      <td>no</td>\n",
       "    </tr>\n",
       "    <tr>\n",
       "      <th>4</th>\n",
       "      <td>5</td>\n",
       "      <td>TCGA-GC-A6I3-11A-11R-A31N-07</td>\n",
       "      <td>TCGA-GC-A6I3</td>\n",
       "      <td>TCGA-GC-A6I3-11A</td>\n",
       "      <td>NT</td>\n",
       "      <td>Solid Tissue Normal</td>\n",
       "      <td>TCGA-GC-A6I3-11A</td>\n",
       "      <td>11</td>\n",
       "      <td>NaN</td>\n",
       "      <td>a6bd07c0-2568-42a3-8433-5f2ebfec34b2</td>\n",
       "      <td>...</td>\n",
       "      <td>NaN</td>\n",
       "      <td>NaN</td>\n",
       "      <td>NaN</td>\n",
       "      <td>NaN</td>\n",
       "      <td>NaN</td>\n",
       "      <td>NaN</td>\n",
       "      <td>NaN</td>\n",
       "      <td>NaN</td>\n",
       "      <td>NaN</td>\n",
       "      <td>NaN</td>\n",
       "    </tr>\n",
       "  </tbody>\n",
       "</table>\n",
       "<p>5 rows × 238 columns</p>\n",
       "</div>"
      ],
      "text/plain": [
       "   Unnamed: 0                       barcode       patient            sample  \\\n",
       "0           1  TCGA-CF-A1HS-01A-11R-A13Y-07  TCGA-CF-A1HS  TCGA-CF-A1HS-01A   \n",
       "1           2  TCGA-GD-A3OQ-11A-21R-A220-07  TCGA-GD-A3OQ  TCGA-GD-A3OQ-11A   \n",
       "2           3  TCGA-ZF-A9R2-01A-11R-A39I-07  TCGA-ZF-A9R2  TCGA-ZF-A9R2-01A   \n",
       "3           4  TCGA-KQ-A41N-01A-11R-A33J-07  TCGA-KQ-A41N  TCGA-KQ-A41N-01A   \n",
       "4           5  TCGA-GC-A6I3-11A-11R-A31N-07  TCGA-GC-A6I3  TCGA-GC-A6I3-11A   \n",
       "\n",
       "  shortLetterCode           definition sample_submitter_id  sample_type_id  \\\n",
       "0              TP  Primary solid Tumor    TCGA-CF-A1HS-01A               1   \n",
       "1              NT  Solid Tissue Normal    TCGA-GD-A3OQ-11A              11   \n",
       "2              TP  Primary solid Tumor    TCGA-ZF-A9R2-01A               1   \n",
       "3              TP  Primary solid Tumor    TCGA-KQ-A41N-01A               1   \n",
       "4              NT  Solid Tissue Normal    TCGA-GC-A6I3-11A              11   \n",
       "\n",
       "  tumor_descriptor                             sample_id  ...  \\\n",
       "0     Not Reported  0a01e5ba-5549-4027-9e84-1bbb163a8f07  ...   \n",
       "1              NaN  fa1b5772-8254-49ba-a385-af8c9ac7fa4f  ...   \n",
       "2              NaN  d0027b26-44ea-4276-9ad4-e0c47a4564e9  ...   \n",
       "3              NaN  85d9b3ae-d14a-445f-83bf-e4a9f9b076b8  ...   \n",
       "4              NaN  a6bd07c0-2568-42a3-8433-5f2ebfec34b2  ...   \n",
       "\n",
       "  paper_focal.deletion.in.PTPRD paper_focal.deletion.in.KDM6A  \\\n",
       "0                             .                             .   \n",
       "1                           NaN                           NaN   \n",
       "2                          Loss                             .   \n",
       "3                             .                             .   \n",
       "4                           NaN                           NaN   \n",
       "\n",
       "   paper_Neoantigen.load paper_HLA.mutation  paper_Fusion.in.FGFR3  \\\n",
       "0                  791.0                NaN                     no   \n",
       "1                    NaN                NaN                    NaN   \n",
       "2                  400.0                NaN                     no   \n",
       "3                  880.0                NaN                     no   \n",
       "4                    NaN                NaN                    NaN   \n",
       "\n",
       "  paper_Fusion.in.PPARG paper_Fusion.in.PTPN13  paper_Fusion.in.RHOA  \\\n",
       "0                    no                     no                    no   \n",
       "1                   NaN                    NaN                   NaN   \n",
       "2                    no                     no                    no   \n",
       "3                    no                     no                    no   \n",
       "4                   NaN                    NaN                   NaN   \n",
       "\n",
       "   paper_Fusion.in.TNFRSF21 paper_Fusion.in.ASIP  \n",
       "0                        no                   no  \n",
       "1                       NaN                  NaN  \n",
       "2                        no                   no  \n",
       "3                        no                   no  \n",
       "4                       NaN                  NaN  \n",
       "\n",
       "[5 rows x 238 columns]"
      ]
     },
     "execution_count": 3,
     "metadata": {},
     "output_type": "execute_result"
    }
   ],
   "source": [
    "df2 = pd.read_csv('D:/ROSALIND_problems/Deep_learning_project/data_patient.csv',sep=';')\n",
    "df2.head()"
   ]
  },
  {
   "cell_type": "code",
   "execution_count": 4,
   "id": "9b3ec5e6-be8f-41e4-8481-d3ec9794c0d2",
   "metadata": {},
   "outputs": [
    {
     "data": {
      "text/html": [
       "<div>\n",
       "<style scoped>\n",
       "    .dataframe tbody tr th:only-of-type {\n",
       "        vertical-align: middle;\n",
       "    }\n",
       "\n",
       "    .dataframe tbody tr th {\n",
       "        vertical-align: top;\n",
       "    }\n",
       "\n",
       "    .dataframe thead th {\n",
       "        text-align: right;\n",
       "    }\n",
       "</style>\n",
       "<table border=\"1\" class=\"dataframe\">\n",
       "  <thead>\n",
       "    <tr style=\"text-align: right;\">\n",
       "      <th></th>\n",
       "      <th>primary_diagnosis</th>\n",
       "    </tr>\n",
       "  </thead>\n",
       "  <tbody>\n",
       "    <tr>\n",
       "      <th>0</th>\n",
       "      <td>Squamous cell carcinoma, NOS</td>\n",
       "    </tr>\n",
       "    <tr>\n",
       "      <th>1</th>\n",
       "      <td>Transitional cell carcinoma</td>\n",
       "    </tr>\n",
       "    <tr>\n",
       "      <th>2</th>\n",
       "      <td>Papillary transitional cell carcinoma</td>\n",
       "    </tr>\n",
       "    <tr>\n",
       "      <th>3</th>\n",
       "      <td>Transitional cell carcinoma</td>\n",
       "    </tr>\n",
       "    <tr>\n",
       "      <th>4</th>\n",
       "      <td>Transitional cell carcinoma</td>\n",
       "    </tr>\n",
       "    <tr>\n",
       "      <th>...</th>\n",
       "      <td>...</td>\n",
       "    </tr>\n",
       "    <tr>\n",
       "      <th>422</th>\n",
       "      <td>Papillary transitional cell carcinoma</td>\n",
       "    </tr>\n",
       "    <tr>\n",
       "      <th>423</th>\n",
       "      <td>Papillary transitional cell carcinoma</td>\n",
       "    </tr>\n",
       "    <tr>\n",
       "      <th>424</th>\n",
       "      <td>Transitional cell carcinoma</td>\n",
       "    </tr>\n",
       "    <tr>\n",
       "      <th>425</th>\n",
       "      <td>Transitional cell carcinoma</td>\n",
       "    </tr>\n",
       "    <tr>\n",
       "      <th>426</th>\n",
       "      <td>Transitional cell carcinoma</td>\n",
       "    </tr>\n",
       "  </tbody>\n",
       "</table>\n",
       "<p>427 rows × 1 columns</p>\n",
       "</div>"
      ],
      "text/plain": [
       "                         primary_diagnosis\n",
       "0             Squamous cell carcinoma, NOS\n",
       "1              Transitional cell carcinoma\n",
       "2    Papillary transitional cell carcinoma\n",
       "3              Transitional cell carcinoma\n",
       "4              Transitional cell carcinoma\n",
       "..                                     ...\n",
       "422  Papillary transitional cell carcinoma\n",
       "423  Papillary transitional cell carcinoma\n",
       "424            Transitional cell carcinoma\n",
       "425            Transitional cell carcinoma\n",
       "426            Transitional cell carcinoma\n",
       "\n",
       "[427 rows x 1 columns]"
      ]
     },
     "execution_count": 4,
     "metadata": {},
     "output_type": "execute_result"
    }
   ],
   "source": [
    "# choose diagnosis\n",
    "Y = df2[['primary_diagnosis']]\n",
    "Y"
   ]
  },
  {
   "cell_type": "code",
   "execution_count": 5,
   "id": "5ca806ad-0c58-49c6-84af-340df4eb866b",
   "metadata": {},
   "outputs": [
    {
     "name": "stderr",
     "output_type": "stream",
     "text": [
      "C:\\Users\\abdel\\AppData\\Local\\Temp\\ipykernel_11588\\159440998.py:3: SettingWithCopyWarning: \n",
      "A value is trying to be set on a copy of a slice from a DataFrame.\n",
      "Try using .loc[row_indexer,col_indexer] = value instead\n",
      "\n",
      "See the caveats in the documentation: https://pandas.pydata.org/pandas-docs/stable/user_guide/indexing.html#returning-a-view-versus-a-copy\n",
      "  Y[\"classes\"] = ord_enc.fit_transform(Y)\n"
     ]
    },
    {
     "data": {
      "text/html": [
       "<div>\n",
       "<style scoped>\n",
       "    .dataframe tbody tr th:only-of-type {\n",
       "        vertical-align: middle;\n",
       "    }\n",
       "\n",
       "    .dataframe tbody tr th {\n",
       "        vertical-align: top;\n",
       "    }\n",
       "\n",
       "    .dataframe thead th {\n",
       "        text-align: right;\n",
       "    }\n",
       "</style>\n",
       "<table border=\"1\" class=\"dataframe\">\n",
       "  <thead>\n",
       "    <tr style=\"text-align: right;\">\n",
       "      <th></th>\n",
       "      <th>primary_diagnosis</th>\n",
       "      <th>classes</th>\n",
       "    </tr>\n",
       "  </thead>\n",
       "  <tbody>\n",
       "    <tr>\n",
       "      <th>0</th>\n",
       "      <td>Squamous cell carcinoma, NOS</td>\n",
       "      <td>3.0</td>\n",
       "    </tr>\n",
       "    <tr>\n",
       "      <th>1</th>\n",
       "      <td>Transitional cell carcinoma</td>\n",
       "      <td>4.0</td>\n",
       "    </tr>\n",
       "    <tr>\n",
       "      <th>2</th>\n",
       "      <td>Papillary transitional cell carcinoma</td>\n",
       "      <td>2.0</td>\n",
       "    </tr>\n",
       "    <tr>\n",
       "      <th>3</th>\n",
       "      <td>Transitional cell carcinoma</td>\n",
       "      <td>4.0</td>\n",
       "    </tr>\n",
       "    <tr>\n",
       "      <th>4</th>\n",
       "      <td>Transitional cell carcinoma</td>\n",
       "      <td>4.0</td>\n",
       "    </tr>\n",
       "    <tr>\n",
       "      <th>...</th>\n",
       "      <td>...</td>\n",
       "      <td>...</td>\n",
       "    </tr>\n",
       "    <tr>\n",
       "      <th>422</th>\n",
       "      <td>Papillary transitional cell carcinoma</td>\n",
       "      <td>2.0</td>\n",
       "    </tr>\n",
       "    <tr>\n",
       "      <th>423</th>\n",
       "      <td>Papillary transitional cell carcinoma</td>\n",
       "      <td>2.0</td>\n",
       "    </tr>\n",
       "    <tr>\n",
       "      <th>424</th>\n",
       "      <td>Transitional cell carcinoma</td>\n",
       "      <td>4.0</td>\n",
       "    </tr>\n",
       "    <tr>\n",
       "      <th>425</th>\n",
       "      <td>Transitional cell carcinoma</td>\n",
       "      <td>4.0</td>\n",
       "    </tr>\n",
       "    <tr>\n",
       "      <th>426</th>\n",
       "      <td>Transitional cell carcinoma</td>\n",
       "      <td>4.0</td>\n",
       "    </tr>\n",
       "  </tbody>\n",
       "</table>\n",
       "<p>427 rows × 2 columns</p>\n",
       "</div>"
      ],
      "text/plain": [
       "                         primary_diagnosis  classes\n",
       "0             Squamous cell carcinoma, NOS      3.0\n",
       "1              Transitional cell carcinoma      4.0\n",
       "2    Papillary transitional cell carcinoma      2.0\n",
       "3              Transitional cell carcinoma      4.0\n",
       "4              Transitional cell carcinoma      4.0\n",
       "..                                     ...      ...\n",
       "422  Papillary transitional cell carcinoma      2.0\n",
       "423  Papillary transitional cell carcinoma      2.0\n",
       "424            Transitional cell carcinoma      4.0\n",
       "425            Transitional cell carcinoma      4.0\n",
       "426            Transitional cell carcinoma      4.0\n",
       "\n",
       "[427 rows x 2 columns]"
      ]
     },
     "execution_count": 5,
     "metadata": {},
     "output_type": "execute_result"
    }
   ],
   "source": [
    "# transform the labels\n",
    "ord_enc = OrdinalEncoder()\n",
    "Y[\"classes\"] = ord_enc.fit_transform(Y)\n",
    "Y"
   ]
  },
  {
   "cell_type": "code",
   "execution_count": 6,
   "id": "808488da-7e32-4297-a18b-600b78017603",
   "metadata": {},
   "outputs": [
    {
     "name": "stdout",
     "output_type": "stream",
     "text": [
      "[[0. 0. 0. 1. 0.]\n",
      " [0. 0. 0. 0. 1.]\n",
      " [0. 0. 1. 0. 0.]\n",
      " [0. 0. 0. 0. 1.]\n",
      " [0. 0. 0. 0. 1.]\n",
      " [0. 0. 0. 0. 1.]\n",
      " [0. 0. 0. 0. 1.]\n",
      " [0. 0. 0. 0. 1.]\n",
      " [0. 0. 0. 0. 1.]\n",
      " [0. 0. 0. 0. 1.]]\n"
     ]
    }
   ],
   "source": [
    "classes=Y[\"classes\"]\n",
    "labels = np_utils.to_categorical(classes)\n",
    "print(labels[:10])"
   ]
  },
  {
   "cell_type": "markdown",
   "id": "2155bdb9-3ba4-4551-8fd7-ac609f04a875",
   "metadata": {},
   "source": [
    "#### QUALITY CONTROL "
   ]
  },
  {
   "cell_type": "code",
   "execution_count": 98,
   "id": "435e6a24-74c1-4807-b9e4-3b48d370af45",
   "metadata": {},
   "outputs": [
    {
     "data": {
      "text/plain": [
       "0.004455503512880561"
      ]
     },
     "execution_count": 98,
     "metadata": {},
     "output_type": "execute_result"
    }
   ],
   "source": [
    "X1['CDY1B'].mean()"
   ]
  },
  {
   "cell_type": "code",
   "execution_count": 81,
   "id": "a00e4e26-4ae2-4244-ac59-2d89f9e49ccb",
   "metadata": {},
   "outputs": [
    {
     "data": {
      "text/html": [
       "<div>\n",
       "<style scoped>\n",
       "    .dataframe tbody tr th:only-of-type {\n",
       "        vertical-align: middle;\n",
       "    }\n",
       "\n",
       "    .dataframe tbody tr th {\n",
       "        vertical-align: top;\n",
       "    }\n",
       "\n",
       "    .dataframe thead th {\n",
       "        text-align: right;\n",
       "    }\n",
       "</style>\n",
       "<table border=\"1\" class=\"dataframe\">\n",
       "  <thead>\n",
       "    <tr style=\"text-align: right;\">\n",
       "      <th></th>\n",
       "      <th>DDX11L2</th>\n",
       "      <th>WASH7P</th>\n",
       "      <th>OR4F5</th>\n",
       "      <th>OR4F29</th>\n",
       "      <th>FAM41C</th>\n",
       "      <th>SAMD11</th>\n",
       "      <th>NOC2L</th>\n",
       "      <th>KLHL17</th>\n",
       "      <th>PLEKHN1</th>\n",
       "      <th>HES4</th>\n",
       "      <th>...</th>\n",
       "      <th>BPY2</th>\n",
       "      <th>DAZ1</th>\n",
       "      <th>DAZ2</th>\n",
       "      <th>TTTY3B</th>\n",
       "      <th>CDY1B</th>\n",
       "      <th>TTTY17B</th>\n",
       "      <th>DAZ3</th>\n",
       "      <th>DAZ4</th>\n",
       "      <th>TTTY4C</th>\n",
       "      <th>CDY1</th>\n",
       "    </tr>\n",
       "  </thead>\n",
       "  <tbody>\n",
       "    <tr>\n",
       "      <th>0</th>\n",
       "      <td>0.5977</td>\n",
       "      <td>714.8834</td>\n",
       "      <td>0.0</td>\n",
       "      <td>0.0000</td>\n",
       "      <td>4.7818</td>\n",
       "      <td>2.2893</td>\n",
       "      <td>2919.4082</td>\n",
       "      <td>95.0389</td>\n",
       "      <td>69.3365</td>\n",
       "      <td>58.5774</td>\n",
       "      <td>...</td>\n",
       "      <td>0.0</td>\n",
       "      <td>0.0000</td>\n",
       "      <td>0.0</td>\n",
       "      <td>0.0</td>\n",
       "      <td>0.0</td>\n",
       "      <td>0.0</td>\n",
       "      <td>0.0</td>\n",
       "      <td>0.0</td>\n",
       "      <td>0.0</td>\n",
       "      <td>0.0</td>\n",
       "    </tr>\n",
       "    <tr>\n",
       "      <th>1</th>\n",
       "      <td>5.3318</td>\n",
       "      <td>1619.5452</td>\n",
       "      <td>0.0</td>\n",
       "      <td>0.0000</td>\n",
       "      <td>13.6628</td>\n",
       "      <td>200.2738</td>\n",
       "      <td>1712.8556</td>\n",
       "      <td>122.9655</td>\n",
       "      <td>426.5469</td>\n",
       "      <td>80.3108</td>\n",
       "      <td>...</td>\n",
       "      <td>0.0</td>\n",
       "      <td>10.9969</td>\n",
       "      <td>0.0</td>\n",
       "      <td>0.0</td>\n",
       "      <td>0.0</td>\n",
       "      <td>0.0</td>\n",
       "      <td>0.0</td>\n",
       "      <td>0.0</td>\n",
       "      <td>0.0</td>\n",
       "      <td>0.0</td>\n",
       "    </tr>\n",
       "    <tr>\n",
       "      <th>2</th>\n",
       "      <td>2.5803</td>\n",
       "      <td>1644.6910</td>\n",
       "      <td>0.0</td>\n",
       "      <td>0.0000</td>\n",
       "      <td>9.8052</td>\n",
       "      <td>97.8816</td>\n",
       "      <td>3204.4020</td>\n",
       "      <td>170.3006</td>\n",
       "      <td>476.3256</td>\n",
       "      <td>406.6572</td>\n",
       "      <td>...</td>\n",
       "      <td>0.0</td>\n",
       "      <td>5.1606</td>\n",
       "      <td>0.0</td>\n",
       "      <td>0.0</td>\n",
       "      <td>0.0</td>\n",
       "      <td>0.0</td>\n",
       "      <td>0.0</td>\n",
       "      <td>0.0</td>\n",
       "      <td>0.0</td>\n",
       "      <td>0.0</td>\n",
       "    </tr>\n",
       "    <tr>\n",
       "      <th>3</th>\n",
       "      <td>35.4381</td>\n",
       "      <td>6565.7216</td>\n",
       "      <td>0.0</td>\n",
       "      <td>0.0000</td>\n",
       "      <td>30.2835</td>\n",
       "      <td>359.8454</td>\n",
       "      <td>4218.1186</td>\n",
       "      <td>739.6907</td>\n",
       "      <td>340.8505</td>\n",
       "      <td>2218.4278</td>\n",
       "      <td>...</td>\n",
       "      <td>0.0</td>\n",
       "      <td>5.7990</td>\n",
       "      <td>0.0</td>\n",
       "      <td>0.0</td>\n",
       "      <td>0.0</td>\n",
       "      <td>0.0</td>\n",
       "      <td>0.0</td>\n",
       "      <td>0.0</td>\n",
       "      <td>0.0</td>\n",
       "      <td>0.0</td>\n",
       "    </tr>\n",
       "    <tr>\n",
       "      <th>4</th>\n",
       "      <td>0.0000</td>\n",
       "      <td>3306.7729</td>\n",
       "      <td>0.0</td>\n",
       "      <td>0.0000</td>\n",
       "      <td>17.2643</td>\n",
       "      <td>581.7795</td>\n",
       "      <td>4288.7384</td>\n",
       "      <td>150.0664</td>\n",
       "      <td>41.8327</td>\n",
       "      <td>559.0969</td>\n",
       "      <td>...</td>\n",
       "      <td>0.0</td>\n",
       "      <td>0.0000</td>\n",
       "      <td>0.0</td>\n",
       "      <td>0.0</td>\n",
       "      <td>0.0</td>\n",
       "      <td>0.0</td>\n",
       "      <td>0.0</td>\n",
       "      <td>0.0</td>\n",
       "      <td>0.0</td>\n",
       "      <td>0.0</td>\n",
       "    </tr>\n",
       "    <tr>\n",
       "      <th>5</th>\n",
       "      <td>61.0291</td>\n",
       "      <td>1561.4348</td>\n",
       "      <td>0.0</td>\n",
       "      <td>0.6492</td>\n",
       "      <td>7.4663</td>\n",
       "      <td>17.7796</td>\n",
       "      <td>3130.7353</td>\n",
       "      <td>112.3194</td>\n",
       "      <td>24.0221</td>\n",
       "      <td>65.8984</td>\n",
       "      <td>...</td>\n",
       "      <td>0.0</td>\n",
       "      <td>0.3246</td>\n",
       "      <td>0.0</td>\n",
       "      <td>0.0</td>\n",
       "      <td>0.0</td>\n",
       "      <td>0.0</td>\n",
       "      <td>0.0</td>\n",
       "      <td>0.0</td>\n",
       "      <td>0.0</td>\n",
       "      <td>0.0</td>\n",
       "    </tr>\n",
       "    <tr>\n",
       "      <th>6</th>\n",
       "      <td>2.6695</td>\n",
       "      <td>1926.3214</td>\n",
       "      <td>0.0</td>\n",
       "      <td>0.0000</td>\n",
       "      <td>13.3476</td>\n",
       "      <td>160.6834</td>\n",
       "      <td>4191.1586</td>\n",
       "      <td>444.7411</td>\n",
       "      <td>641.7512</td>\n",
       "      <td>252.5360</td>\n",
       "      <td>...</td>\n",
       "      <td>0.0</td>\n",
       "      <td>14.4154</td>\n",
       "      <td>0.0</td>\n",
       "      <td>0.0</td>\n",
       "      <td>0.0</td>\n",
       "      <td>0.0</td>\n",
       "      <td>0.0</td>\n",
       "      <td>0.0</td>\n",
       "      <td>0.0</td>\n",
       "      <td>0.0</td>\n",
       "    </tr>\n",
       "    <tr>\n",
       "      <th>7</th>\n",
       "      <td>38.1827</td>\n",
       "      <td>1853.6944</td>\n",
       "      <td>0.0</td>\n",
       "      <td>1.1014</td>\n",
       "      <td>11.3814</td>\n",
       "      <td>301.7090</td>\n",
       "      <td>3435.4181</td>\n",
       "      <td>90.6838</td>\n",
       "      <td>5.5071</td>\n",
       "      <td>96.9252</td>\n",
       "      <td>...</td>\n",
       "      <td>0.0</td>\n",
       "      <td>0.0000</td>\n",
       "      <td>0.0</td>\n",
       "      <td>0.0</td>\n",
       "      <td>0.0</td>\n",
       "      <td>0.0</td>\n",
       "      <td>0.0</td>\n",
       "      <td>0.0</td>\n",
       "      <td>0.0</td>\n",
       "      <td>0.0</td>\n",
       "    </tr>\n",
       "    <tr>\n",
       "      <th>8</th>\n",
       "      <td>9.0136</td>\n",
       "      <td>1495.0323</td>\n",
       "      <td>0.0</td>\n",
       "      <td>0.8194</td>\n",
       "      <td>13.1107</td>\n",
       "      <td>412.8075</td>\n",
       "      <td>1310.8430</td>\n",
       "      <td>114.7188</td>\n",
       "      <td>198.2997</td>\n",
       "      <td>237.2222</td>\n",
       "      <td>...</td>\n",
       "      <td>0.0</td>\n",
       "      <td>0.0000</td>\n",
       "      <td>0.0</td>\n",
       "      <td>0.0</td>\n",
       "      <td>0.0</td>\n",
       "      <td>0.0</td>\n",
       "      <td>0.0</td>\n",
       "      <td>0.0</td>\n",
       "      <td>0.0</td>\n",
       "      <td>0.0</td>\n",
       "    </tr>\n",
       "    <tr>\n",
       "      <th>9</th>\n",
       "      <td>47.4632</td>\n",
       "      <td>2303.2596</td>\n",
       "      <td>0.0</td>\n",
       "      <td>0.0000</td>\n",
       "      <td>4.7463</td>\n",
       "      <td>330.9221</td>\n",
       "      <td>2831.8530</td>\n",
       "      <td>199.7769</td>\n",
       "      <td>359.8574</td>\n",
       "      <td>380.5686</td>\n",
       "      <td>...</td>\n",
       "      <td>0.0</td>\n",
       "      <td>0.4315</td>\n",
       "      <td>0.0</td>\n",
       "      <td>0.0</td>\n",
       "      <td>0.0</td>\n",
       "      <td>0.0</td>\n",
       "      <td>0.0</td>\n",
       "      <td>0.0</td>\n",
       "      <td>0.0</td>\n",
       "      <td>0.0</td>\n",
       "    </tr>\n",
       "  </tbody>\n",
       "</table>\n",
       "<p>10 rows × 17072 columns</p>\n",
       "</div>"
      ],
      "text/plain": [
       "   DDX11L2     WASH7P  OR4F5  OR4F29   FAM41C    SAMD11      NOC2L    KLHL17  \\\n",
       "0   0.5977   714.8834    0.0  0.0000   4.7818    2.2893  2919.4082   95.0389   \n",
       "1   5.3318  1619.5452    0.0  0.0000  13.6628  200.2738  1712.8556  122.9655   \n",
       "2   2.5803  1644.6910    0.0  0.0000   9.8052   97.8816  3204.4020  170.3006   \n",
       "3  35.4381  6565.7216    0.0  0.0000  30.2835  359.8454  4218.1186  739.6907   \n",
       "4   0.0000  3306.7729    0.0  0.0000  17.2643  581.7795  4288.7384  150.0664   \n",
       "5  61.0291  1561.4348    0.0  0.6492   7.4663   17.7796  3130.7353  112.3194   \n",
       "6   2.6695  1926.3214    0.0  0.0000  13.3476  160.6834  4191.1586  444.7411   \n",
       "7  38.1827  1853.6944    0.0  1.1014  11.3814  301.7090  3435.4181   90.6838   \n",
       "8   9.0136  1495.0323    0.0  0.8194  13.1107  412.8075  1310.8430  114.7188   \n",
       "9  47.4632  2303.2596    0.0  0.0000   4.7463  330.9221  2831.8530  199.7769   \n",
       "\n",
       "    PLEKHN1       HES4  ...  BPY2     DAZ1  DAZ2  TTTY3B  CDY1B  TTTY17B  \\\n",
       "0   69.3365    58.5774  ...   0.0   0.0000   0.0     0.0    0.0      0.0   \n",
       "1  426.5469    80.3108  ...   0.0  10.9969   0.0     0.0    0.0      0.0   \n",
       "2  476.3256   406.6572  ...   0.0   5.1606   0.0     0.0    0.0      0.0   \n",
       "3  340.8505  2218.4278  ...   0.0   5.7990   0.0     0.0    0.0      0.0   \n",
       "4   41.8327   559.0969  ...   0.0   0.0000   0.0     0.0    0.0      0.0   \n",
       "5   24.0221    65.8984  ...   0.0   0.3246   0.0     0.0    0.0      0.0   \n",
       "6  641.7512   252.5360  ...   0.0  14.4154   0.0     0.0    0.0      0.0   \n",
       "7    5.5071    96.9252  ...   0.0   0.0000   0.0     0.0    0.0      0.0   \n",
       "8  198.2997   237.2222  ...   0.0   0.0000   0.0     0.0    0.0      0.0   \n",
       "9  359.8574   380.5686  ...   0.0   0.4315   0.0     0.0    0.0      0.0   \n",
       "\n",
       "   DAZ3  DAZ4  TTTY4C  CDY1  \n",
       "0   0.0   0.0     0.0   0.0  \n",
       "1   0.0   0.0     0.0   0.0  \n",
       "2   0.0   0.0     0.0   0.0  \n",
       "3   0.0   0.0     0.0   0.0  \n",
       "4   0.0   0.0     0.0   0.0  \n",
       "5   0.0   0.0     0.0   0.0  \n",
       "6   0.0   0.0     0.0   0.0  \n",
       "7   0.0   0.0     0.0   0.0  \n",
       "8   0.0   0.0     0.0   0.0  \n",
       "9   0.0   0.0     0.0   0.0  \n",
       "\n",
       "[10 rows x 17072 columns]"
      ]
     },
     "execution_count": 81,
     "metadata": {},
     "output_type": "execute_result"
    }
   ],
   "source": [
    "# delete the columns that contains all the same value\n",
    "X1 = df1[[c for c in list(df1)\n",
    "       if len(df1[c].unique())>1]]\n",
    "len(X1.columns)\n",
    "X1.head(n=10)"
   ]
  },
  {
   "cell_type": "code",
   "execution_count": 16,
   "id": "506c834e-27dc-4d7b-bd16-2c72f29466d9",
   "metadata": {},
   "outputs": [
    {
     "data": {
      "text/plain": [
       "0"
      ]
     },
     "execution_count": 52,
     "metadata": {},
     "output_type": "execute_result"
    }
   ],
   "source": [
    "X1.isna().sum().sum()"
   ]
  },
  {
   "cell_type": "code",
   "execution_count": 17,
   "id": "7cc6a6a4-f6bd-4601-9eb8-f9d64cc7ba0a",
   "metadata": {
    "tags": []
   },
   "outputs": [
    {
     "data": {
      "text/html": [
       "<div>\n",
       "<style scoped>\n",
       "    .dataframe tbody tr th:only-of-type {\n",
       "        vertical-align: middle;\n",
       "    }\n",
       "\n",
       "    .dataframe tbody tr th {\n",
       "        vertical-align: top;\n",
       "    }\n",
       "\n",
       "    .dataframe thead th {\n",
       "        text-align: right;\n",
       "    }\n",
       "</style>\n",
       "<table border=\"1\" class=\"dataframe\">\n",
       "  <thead>\n",
       "    <tr style=\"text-align: right;\">\n",
       "      <th></th>\n",
       "      <th>DDX11L2</th>\n",
       "      <th>WASH7P</th>\n",
       "      <th>OR4F5</th>\n",
       "      <th>OR4F29</th>\n",
       "      <th>FAM41C</th>\n",
       "      <th>SAMD11</th>\n",
       "      <th>NOC2L</th>\n",
       "      <th>KLHL17</th>\n",
       "      <th>PLEKHN1</th>\n",
       "      <th>HES4</th>\n",
       "      <th>...</th>\n",
       "      <th>BPY2</th>\n",
       "      <th>DAZ1</th>\n",
       "      <th>DAZ2</th>\n",
       "      <th>TTTY3B</th>\n",
       "      <th>CDY1B</th>\n",
       "      <th>TTTY17B</th>\n",
       "      <th>DAZ3</th>\n",
       "      <th>DAZ4</th>\n",
       "      <th>TTTY4C</th>\n",
       "      <th>CDY1</th>\n",
       "    </tr>\n",
       "  </thead>\n",
       "  <tbody>\n",
       "    <tr>\n",
       "      <th>count</th>\n",
       "      <td>427.000000</td>\n",
       "      <td>427.000000</td>\n",
       "      <td>427.000000</td>\n",
       "      <td>427.000000</td>\n",
       "      <td>427.000000</td>\n",
       "      <td>427.000000</td>\n",
       "      <td>427.000000</td>\n",
       "      <td>427.000000</td>\n",
       "      <td>427.000000</td>\n",
       "      <td>427.000000</td>\n",
       "      <td>...</td>\n",
       "      <td>427.000000</td>\n",
       "      <td>427.000000</td>\n",
       "      <td>427.000000</td>\n",
       "      <td>427.000000</td>\n",
       "      <td>427.000000</td>\n",
       "      <td>427.000000</td>\n",
       "      <td>427.000000</td>\n",
       "      <td>427.000000</td>\n",
       "      <td>427.000000</td>\n",
       "      <td>427.000000</td>\n",
       "    </tr>\n",
       "    <tr>\n",
       "      <th>mean</th>\n",
       "      <td>27.058008</td>\n",
       "      <td>2261.550563</td>\n",
       "      <td>0.010946</td>\n",
       "      <td>0.521973</td>\n",
       "      <td>16.594174</td>\n",
       "      <td>112.639181</td>\n",
       "      <td>3471.639878</td>\n",
       "      <td>256.125571</td>\n",
       "      <td>364.895211</td>\n",
       "      <td>323.916613</td>\n",
       "      <td>...</td>\n",
       "      <td>0.011011</td>\n",
       "      <td>88.483718</td>\n",
       "      <td>4.993077</td>\n",
       "      <td>0.008806</td>\n",
       "      <td>0.004456</td>\n",
       "      <td>0.000852</td>\n",
       "      <td>4.140197</td>\n",
       "      <td>0.793788</td>\n",
       "      <td>0.043419</td>\n",
       "      <td>0.003546</td>\n",
       "    </tr>\n",
       "    <tr>\n",
       "      <th>std</th>\n",
       "      <td>30.967319</td>\n",
       "      <td>1551.444726</td>\n",
       "      <td>0.103170</td>\n",
       "      <td>1.016683</td>\n",
       "      <td>10.895465</td>\n",
       "      <td>274.489231</td>\n",
       "      <td>1313.424183</td>\n",
       "      <td>184.066782</td>\n",
       "      <td>319.624284</td>\n",
       "      <td>381.285617</td>\n",
       "      <td>...</td>\n",
       "      <td>0.108295</td>\n",
       "      <td>1044.972114</td>\n",
       "      <td>75.706862</td>\n",
       "      <td>0.118878</td>\n",
       "      <td>0.046433</td>\n",
       "      <td>0.017606</td>\n",
       "      <td>65.494015</td>\n",
       "      <td>12.002184</td>\n",
       "      <td>0.486636</td>\n",
       "      <td>0.073268</td>\n",
       "    </tr>\n",
       "    <tr>\n",
       "      <th>min</th>\n",
       "      <td>0.000000</td>\n",
       "      <td>396.843800</td>\n",
       "      <td>0.000000</td>\n",
       "      <td>0.000000</td>\n",
       "      <td>2.859500</td>\n",
       "      <td>0.000000</td>\n",
       "      <td>901.796000</td>\n",
       "      <td>11.319000</td>\n",
       "      <td>0.000000</td>\n",
       "      <td>4.493500</td>\n",
       "      <td>...</td>\n",
       "      <td>0.000000</td>\n",
       "      <td>0.000000</td>\n",
       "      <td>0.000000</td>\n",
       "      <td>0.000000</td>\n",
       "      <td>0.000000</td>\n",
       "      <td>0.000000</td>\n",
       "      <td>0.000000</td>\n",
       "      <td>0.000000</td>\n",
       "      <td>0.000000</td>\n",
       "      <td>0.000000</td>\n",
       "    </tr>\n",
       "    <tr>\n",
       "      <th>25%</th>\n",
       "      <td>5.403200</td>\n",
       "      <td>1288.349650</td>\n",
       "      <td>0.000000</td>\n",
       "      <td>0.000000</td>\n",
       "      <td>9.623900</td>\n",
       "      <td>12.850950</td>\n",
       "      <td>2592.119900</td>\n",
       "      <td>141.434650</td>\n",
       "      <td>131.644000</td>\n",
       "      <td>98.608650</td>\n",
       "      <td>...</td>\n",
       "      <td>0.000000</td>\n",
       "      <td>0.000000</td>\n",
       "      <td>0.000000</td>\n",
       "      <td>0.000000</td>\n",
       "      <td>0.000000</td>\n",
       "      <td>0.000000</td>\n",
       "      <td>0.000000</td>\n",
       "      <td>0.000000</td>\n",
       "      <td>0.000000</td>\n",
       "      <td>0.000000</td>\n",
       "    </tr>\n",
       "    <tr>\n",
       "      <th>50%</th>\n",
       "      <td>16.658000</td>\n",
       "      <td>1820.743900</td>\n",
       "      <td>0.000000</td>\n",
       "      <td>0.000000</td>\n",
       "      <td>14.030400</td>\n",
       "      <td>41.227000</td>\n",
       "      <td>3284.433300</td>\n",
       "      <td>208.887100</td>\n",
       "      <td>281.825200</td>\n",
       "      <td>215.412800</td>\n",
       "      <td>...</td>\n",
       "      <td>0.000000</td>\n",
       "      <td>0.000000</td>\n",
       "      <td>0.000000</td>\n",
       "      <td>0.000000</td>\n",
       "      <td>0.000000</td>\n",
       "      <td>0.000000</td>\n",
       "      <td>0.000000</td>\n",
       "      <td>0.000000</td>\n",
       "      <td>0.000000</td>\n",
       "      <td>0.000000</td>\n",
       "    </tr>\n",
       "    <tr>\n",
       "      <th>75%</th>\n",
       "      <td>35.197650</td>\n",
       "      <td>2626.580950</td>\n",
       "      <td>0.000000</td>\n",
       "      <td>0.686700</td>\n",
       "      <td>21.157200</td>\n",
       "      <td>128.971550</td>\n",
       "      <td>4092.315550</td>\n",
       "      <td>315.337400</td>\n",
       "      <td>486.242750</td>\n",
       "      <td>406.347850</td>\n",
       "      <td>...</td>\n",
       "      <td>0.000000</td>\n",
       "      <td>3.072400</td>\n",
       "      <td>0.000000</td>\n",
       "      <td>0.000000</td>\n",
       "      <td>0.000000</td>\n",
       "      <td>0.000000</td>\n",
       "      <td>0.000000</td>\n",
       "      <td>0.000000</td>\n",
       "      <td>0.000000</td>\n",
       "      <td>0.000000</td>\n",
       "    </tr>\n",
       "    <tr>\n",
       "      <th>max</th>\n",
       "      <td>200.980400</td>\n",
       "      <td>11513.491600</td>\n",
       "      <td>1.514000</td>\n",
       "      <td>11.550600</td>\n",
       "      <td>120.431500</td>\n",
       "      <td>4922.406700</td>\n",
       "      <td>9863.251300</td>\n",
       "      <td>1712.280500</td>\n",
       "      <td>1750.463600</td>\n",
       "      <td>3562.216300</td>\n",
       "      <td>...</td>\n",
       "      <td>1.783200</td>\n",
       "      <td>18178.632500</td>\n",
       "      <td>1537.608700</td>\n",
       "      <td>1.866500</td>\n",
       "      <td>0.559100</td>\n",
       "      <td>0.363800</td>\n",
       "      <td>1316.052300</td>\n",
       "      <td>215.259700</td>\n",
       "      <td>9.394100</td>\n",
       "      <td>1.514000</td>\n",
       "    </tr>\n",
       "  </tbody>\n",
       "</table>\n",
       "<p>8 rows × 17072 columns</p>\n",
       "</div>"
      ],
      "text/plain": [
       "          DDX11L2        WASH7P       OR4F5      OR4F29      FAM41C  \\\n",
       "count  427.000000    427.000000  427.000000  427.000000  427.000000   \n",
       "mean    27.058008   2261.550563    0.010946    0.521973   16.594174   \n",
       "std     30.967319   1551.444726    0.103170    1.016683   10.895465   \n",
       "min      0.000000    396.843800    0.000000    0.000000    2.859500   \n",
       "25%      5.403200   1288.349650    0.000000    0.000000    9.623900   \n",
       "50%     16.658000   1820.743900    0.000000    0.000000   14.030400   \n",
       "75%     35.197650   2626.580950    0.000000    0.686700   21.157200   \n",
       "max    200.980400  11513.491600    1.514000   11.550600  120.431500   \n",
       "\n",
       "            SAMD11        NOC2L       KLHL17      PLEKHN1         HES4  ...  \\\n",
       "count   427.000000   427.000000   427.000000   427.000000   427.000000  ...   \n",
       "mean    112.639181  3471.639878   256.125571   364.895211   323.916613  ...   \n",
       "std     274.489231  1313.424183   184.066782   319.624284   381.285617  ...   \n",
       "min       0.000000   901.796000    11.319000     0.000000     4.493500  ...   \n",
       "25%      12.850950  2592.119900   141.434650   131.644000    98.608650  ...   \n",
       "50%      41.227000  3284.433300   208.887100   281.825200   215.412800  ...   \n",
       "75%     128.971550  4092.315550   315.337400   486.242750   406.347850  ...   \n",
       "max    4922.406700  9863.251300  1712.280500  1750.463600  3562.216300  ...   \n",
       "\n",
       "             BPY2          DAZ1         DAZ2      TTTY3B       CDY1B  \\\n",
       "count  427.000000    427.000000   427.000000  427.000000  427.000000   \n",
       "mean     0.011011     88.483718     4.993077    0.008806    0.004456   \n",
       "std      0.108295   1044.972114    75.706862    0.118878    0.046433   \n",
       "min      0.000000      0.000000     0.000000    0.000000    0.000000   \n",
       "25%      0.000000      0.000000     0.000000    0.000000    0.000000   \n",
       "50%      0.000000      0.000000     0.000000    0.000000    0.000000   \n",
       "75%      0.000000      3.072400     0.000000    0.000000    0.000000   \n",
       "max      1.783200  18178.632500  1537.608700    1.866500    0.559100   \n",
       "\n",
       "          TTTY17B         DAZ3        DAZ4      TTTY4C        CDY1  \n",
       "count  427.000000   427.000000  427.000000  427.000000  427.000000  \n",
       "mean     0.000852     4.140197    0.793788    0.043419    0.003546  \n",
       "std      0.017606    65.494015   12.002184    0.486636    0.073268  \n",
       "min      0.000000     0.000000    0.000000    0.000000    0.000000  \n",
       "25%      0.000000     0.000000    0.000000    0.000000    0.000000  \n",
       "50%      0.000000     0.000000    0.000000    0.000000    0.000000  \n",
       "75%      0.000000     0.000000    0.000000    0.000000    0.000000  \n",
       "max      0.363800  1316.052300  215.259700    9.394100    1.514000  \n",
       "\n",
       "[8 rows x 17072 columns]"
      ]
     },
     "execution_count": 53,
     "metadata": {},
     "output_type": "execute_result"
    }
   ],
   "source": [
    "X1.describe()"
   ]
  },
  {
   "cell_type": "code",
   "execution_count": 86,
   "id": "4bee05a9-d10f-443b-8926-971ff3dca414",
   "metadata": {},
   "outputs": [
    {
     "ename": "KeyboardInterrupt",
     "evalue": "",
     "output_type": "error",
     "traceback": [
      "\u001b[1;31m---------------------------------------------------------------------------\u001b[0m",
      "\u001b[1;31mKeyboardInterrupt\u001b[0m                         Traceback (most recent call last)",
      "Cell \u001b[1;32mIn [86], line 4\u001b[0m\n\u001b[0;32m      2\u001b[0m X2 \u001b[38;5;241m=\u001b[39m X1\u001b[38;5;241m.\u001b[39mdropna(thresh\u001b[38;5;241m=\u001b[39m \u001b[38;5;241m10\u001b[39m, axis\u001b[38;5;241m=\u001b[39m\u001b[38;5;241m1\u001b[39m)\n\u001b[0;32m      3\u001b[0m \u001b[38;5;28mlen\u001b[39m(X2\u001b[38;5;241m.\u001b[39mcolumns)\n\u001b[1;32m----> 4\u001b[0m X2 \u001b[38;5;241m=\u001b[39m \u001b[43mX1\u001b[49m\u001b[38;5;241;43m.\u001b[39;49m\u001b[43mfillna\u001b[49m\u001b[43m(\u001b[49m\u001b[43mX1\u001b[49m\u001b[38;5;241;43m.\u001b[39;49m\u001b[43mmean\u001b[49m\u001b[43m(\u001b[49m\u001b[43m)\u001b[49m\u001b[43m)\u001b[49m\n\u001b[0;32m      5\u001b[0m X2\u001b[38;5;241m.\u001b[39misna()\u001b[38;5;241m.\u001b[39msum()\u001b[38;5;241m.\u001b[39msum()\n",
      "File \u001b[1;32mD:\\ROSALIND_problems\\venv\\lib\\site-packages\\pandas\\util\\_decorators.py:331\u001b[0m, in \u001b[0;36mdeprecate_nonkeyword_arguments.<locals>.decorate.<locals>.wrapper\u001b[1;34m(*args, **kwargs)\u001b[0m\n\u001b[0;32m    325\u001b[0m \u001b[38;5;28;01mif\u001b[39;00m \u001b[38;5;28mlen\u001b[39m(args) \u001b[38;5;241m>\u001b[39m num_allow_args:\n\u001b[0;32m    326\u001b[0m     warnings\u001b[38;5;241m.\u001b[39mwarn(\n\u001b[0;32m    327\u001b[0m         msg\u001b[38;5;241m.\u001b[39mformat(arguments\u001b[38;5;241m=\u001b[39m_format_argument_list(allow_args)),\n\u001b[0;32m    328\u001b[0m         \u001b[38;5;167;01mFutureWarning\u001b[39;00m,\n\u001b[0;32m    329\u001b[0m         stacklevel\u001b[38;5;241m=\u001b[39mfind_stack_level(),\n\u001b[0;32m    330\u001b[0m     )\n\u001b[1;32m--> 331\u001b[0m \u001b[38;5;28;01mreturn\u001b[39;00m func(\u001b[38;5;241m*\u001b[39margs, \u001b[38;5;241m*\u001b[39m\u001b[38;5;241m*\u001b[39mkwargs)\n",
      "File \u001b[1;32mD:\\ROSALIND_problems\\venv\\lib\\site-packages\\pandas\\core\\frame.py:5624\u001b[0m, in \u001b[0;36mDataFrame.fillna\u001b[1;34m(self, value, method, axis, inplace, limit, downcast)\u001b[0m\n\u001b[0;32m   5613\u001b[0m \u001b[38;5;129m@deprecate_nonkeyword_arguments\u001b[39m(version\u001b[38;5;241m=\u001b[39m\u001b[38;5;28;01mNone\u001b[39;00m, allowed_args\u001b[38;5;241m=\u001b[39m[\u001b[38;5;124m\"\u001b[39m\u001b[38;5;124mself\u001b[39m\u001b[38;5;124m\"\u001b[39m, \u001b[38;5;124m\"\u001b[39m\u001b[38;5;124mvalue\u001b[39m\u001b[38;5;124m\"\u001b[39m])\n\u001b[0;32m   5614\u001b[0m \u001b[38;5;129m@doc\u001b[39m(NDFrame\u001b[38;5;241m.\u001b[39mfillna, \u001b[38;5;241m*\u001b[39m\u001b[38;5;241m*\u001b[39m_shared_doc_kwargs)\n\u001b[0;32m   5615\u001b[0m \u001b[38;5;28;01mdef\u001b[39;00m \u001b[38;5;21mfillna\u001b[39m(  \u001b[38;5;66;03m# type: ignore[override]\u001b[39;00m\n\u001b[1;32m   (...)\u001b[0m\n\u001b[0;32m   5622\u001b[0m     downcast: \u001b[38;5;28mdict\u001b[39m \u001b[38;5;241m|\u001b[39m \u001b[38;5;28;01mNone\u001b[39;00m \u001b[38;5;241m=\u001b[39m \u001b[38;5;28;01mNone\u001b[39;00m,\n\u001b[0;32m   5623\u001b[0m ) \u001b[38;5;241m-\u001b[39m\u001b[38;5;241m>\u001b[39m DataFrame \u001b[38;5;241m|\u001b[39m \u001b[38;5;28;01mNone\u001b[39;00m:\n\u001b[1;32m-> 5624\u001b[0m     \u001b[38;5;28;01mreturn\u001b[39;00m \u001b[38;5;28;43msuper\u001b[39;49m\u001b[43m(\u001b[49m\u001b[43m)\u001b[49m\u001b[38;5;241;43m.\u001b[39;49m\u001b[43mfillna\u001b[49m\u001b[43m(\u001b[49m\n\u001b[0;32m   5625\u001b[0m \u001b[43m        \u001b[49m\u001b[43mvalue\u001b[49m\u001b[38;5;241;43m=\u001b[39;49m\u001b[43mvalue\u001b[49m\u001b[43m,\u001b[49m\n\u001b[0;32m   5626\u001b[0m \u001b[43m        \u001b[49m\u001b[43mmethod\u001b[49m\u001b[38;5;241;43m=\u001b[39;49m\u001b[43mmethod\u001b[49m\u001b[43m,\u001b[49m\n\u001b[0;32m   5627\u001b[0m \u001b[43m        \u001b[49m\u001b[43maxis\u001b[49m\u001b[38;5;241;43m=\u001b[39;49m\u001b[43maxis\u001b[49m\u001b[43m,\u001b[49m\n\u001b[0;32m   5628\u001b[0m \u001b[43m        \u001b[49m\u001b[43minplace\u001b[49m\u001b[38;5;241;43m=\u001b[39;49m\u001b[43minplace\u001b[49m\u001b[43m,\u001b[49m\n\u001b[0;32m   5629\u001b[0m \u001b[43m        \u001b[49m\u001b[43mlimit\u001b[49m\u001b[38;5;241;43m=\u001b[39;49m\u001b[43mlimit\u001b[49m\u001b[43m,\u001b[49m\n\u001b[0;32m   5630\u001b[0m \u001b[43m        \u001b[49m\u001b[43mdowncast\u001b[49m\u001b[38;5;241;43m=\u001b[39;49m\u001b[43mdowncast\u001b[49m\u001b[43m,\u001b[49m\n\u001b[0;32m   5631\u001b[0m \u001b[43m    \u001b[49m\u001b[43m)\u001b[49m\n",
      "File \u001b[1;32mD:\\ROSALIND_problems\\venv\\lib\\site-packages\\pandas\\core\\generic.py:6871\u001b[0m, in \u001b[0;36mNDFrame.fillna\u001b[1;34m(self, value, method, axis, inplace, limit, downcast)\u001b[0m\n\u001b[0;32m   6868\u001b[0m res_k \u001b[38;5;241m=\u001b[39m result[k]\u001b[38;5;241m.\u001b[39mfillna(v, limit\u001b[38;5;241m=\u001b[39mlimit, downcast\u001b[38;5;241m=\u001b[39mdowncast_k)\n\u001b[0;32m   6870\u001b[0m \u001b[38;5;28;01mif\u001b[39;00m \u001b[38;5;129;01mnot\u001b[39;00m inplace:\n\u001b[1;32m-> 6871\u001b[0m     \u001b[43mresult\u001b[49m\u001b[43m[\u001b[49m\u001b[43mk\u001b[49m\u001b[43m]\u001b[49m \u001b[38;5;241m=\u001b[39m res_k\n\u001b[0;32m   6872\u001b[0m \u001b[38;5;28;01melse\u001b[39;00m:\n\u001b[0;32m   6873\u001b[0m     \u001b[38;5;66;03m# We can write into our existing column(s) iff dtype\u001b[39;00m\n\u001b[0;32m   6874\u001b[0m     \u001b[38;5;66;03m#  was preserved.\u001b[39;00m\n\u001b[0;32m   6875\u001b[0m     \u001b[38;5;28;01mif\u001b[39;00m \u001b[38;5;28misinstance\u001b[39m(res_k, ABCSeries):\n\u001b[0;32m   6876\u001b[0m         \u001b[38;5;66;03m# i.e. 'k' only shows up once in self.columns\u001b[39;00m\n",
      "File \u001b[1;32mD:\\ROSALIND_problems\\venv\\lib\\site-packages\\pandas\\core\\frame.py:3977\u001b[0m, in \u001b[0;36mDataFrame.__setitem__\u001b[1;34m(self, key, value)\u001b[0m\n\u001b[0;32m   3974\u001b[0m     \u001b[38;5;28mself\u001b[39m\u001b[38;5;241m.\u001b[39m_setitem_array([key], value)\n\u001b[0;32m   3975\u001b[0m \u001b[38;5;28;01melse\u001b[39;00m:\n\u001b[0;32m   3976\u001b[0m     \u001b[38;5;66;03m# set column\u001b[39;00m\n\u001b[1;32m-> 3977\u001b[0m     \u001b[38;5;28;43mself\u001b[39;49m\u001b[38;5;241;43m.\u001b[39;49m\u001b[43m_set_item\u001b[49m\u001b[43m(\u001b[49m\u001b[43mkey\u001b[49m\u001b[43m,\u001b[49m\u001b[43m \u001b[49m\u001b[43mvalue\u001b[49m\u001b[43m)\u001b[49m\n",
      "File \u001b[1;32mD:\\ROSALIND_problems\\venv\\lib\\site-packages\\pandas\\core\\frame.py:4184\u001b[0m, in \u001b[0;36mDataFrame._set_item\u001b[1;34m(self, key, value)\u001b[0m\n\u001b[0;32m   4181\u001b[0m         \u001b[38;5;28;01mif\u001b[39;00m \u001b[38;5;28misinstance\u001b[39m(existing_piece, DataFrame):\n\u001b[0;32m   4182\u001b[0m             value \u001b[38;5;241m=\u001b[39m np\u001b[38;5;241m.\u001b[39mtile(value, (\u001b[38;5;28mlen\u001b[39m(existing_piece\u001b[38;5;241m.\u001b[39mcolumns), \u001b[38;5;241m1\u001b[39m))\u001b[38;5;241m.\u001b[39mT\n\u001b[1;32m-> 4184\u001b[0m \u001b[38;5;28;43mself\u001b[39;49m\u001b[38;5;241;43m.\u001b[39;49m\u001b[43m_set_item_mgr\u001b[49m\u001b[43m(\u001b[49m\u001b[43mkey\u001b[49m\u001b[43m,\u001b[49m\u001b[43m \u001b[49m\u001b[43mvalue\u001b[49m\u001b[43m)\u001b[49m\n",
      "File \u001b[1;32mD:\\ROSALIND_problems\\venv\\lib\\site-packages\\pandas\\core\\frame.py:4143\u001b[0m, in \u001b[0;36mDataFrame._set_item_mgr\u001b[1;34m(self, key, value)\u001b[0m\n\u001b[0;32m   4141\u001b[0m     \u001b[38;5;28mself\u001b[39m\u001b[38;5;241m.\u001b[39m_mgr\u001b[38;5;241m.\u001b[39minsert(\u001b[38;5;28mlen\u001b[39m(\u001b[38;5;28mself\u001b[39m\u001b[38;5;241m.\u001b[39m_info_axis), key, value)\n\u001b[0;32m   4142\u001b[0m \u001b[38;5;28;01melse\u001b[39;00m:\n\u001b[1;32m-> 4143\u001b[0m     \u001b[38;5;28;43mself\u001b[39;49m\u001b[38;5;241;43m.\u001b[39;49m\u001b[43m_iset_item_mgr\u001b[49m\u001b[43m(\u001b[49m\u001b[43mloc\u001b[49m\u001b[43m,\u001b[49m\u001b[43m \u001b[49m\u001b[43mvalue\u001b[49m\u001b[43m)\u001b[49m\n\u001b[0;32m   4145\u001b[0m \u001b[38;5;66;03m# check if we are modifying a copy\u001b[39;00m\n\u001b[0;32m   4146\u001b[0m \u001b[38;5;66;03m# try to set first as we want an invalid\u001b[39;00m\n\u001b[0;32m   4147\u001b[0m \u001b[38;5;66;03m# value exception to occur first\u001b[39;00m\n\u001b[0;32m   4148\u001b[0m \u001b[38;5;28;01mif\u001b[39;00m \u001b[38;5;28mlen\u001b[39m(\u001b[38;5;28mself\u001b[39m):\n",
      "File \u001b[1;32mD:\\ROSALIND_problems\\venv\\lib\\site-packages\\pandas\\core\\frame.py:4133\u001b[0m, in \u001b[0;36mDataFrame._iset_item_mgr\u001b[1;34m(self, loc, value, inplace)\u001b[0m\n\u001b[0;32m   4129\u001b[0m \u001b[38;5;28;01mdef\u001b[39;00m \u001b[38;5;21m_iset_item_mgr\u001b[39m(\n\u001b[0;32m   4130\u001b[0m     \u001b[38;5;28mself\u001b[39m, loc: \u001b[38;5;28mint\u001b[39m \u001b[38;5;241m|\u001b[39m \u001b[38;5;28mslice\u001b[39m \u001b[38;5;241m|\u001b[39m np\u001b[38;5;241m.\u001b[39mndarray, value, inplace: \u001b[38;5;28mbool\u001b[39m \u001b[38;5;241m=\u001b[39m \u001b[38;5;28;01mFalse\u001b[39;00m\n\u001b[0;32m   4131\u001b[0m ) \u001b[38;5;241m-\u001b[39m\u001b[38;5;241m>\u001b[39m \u001b[38;5;28;01mNone\u001b[39;00m:\n\u001b[0;32m   4132\u001b[0m     \u001b[38;5;66;03m# when called from _set_item_mgr loc can be anything returned from get_loc\u001b[39;00m\n\u001b[1;32m-> 4133\u001b[0m     \u001b[38;5;28;43mself\u001b[39;49m\u001b[38;5;241;43m.\u001b[39;49m\u001b[43m_mgr\u001b[49m\u001b[38;5;241;43m.\u001b[39;49m\u001b[43miset\u001b[49m\u001b[43m(\u001b[49m\u001b[43mloc\u001b[49m\u001b[43m,\u001b[49m\u001b[43m \u001b[49m\u001b[43mvalue\u001b[49m\u001b[43m,\u001b[49m\u001b[43m \u001b[49m\u001b[43minplace\u001b[49m\u001b[38;5;241;43m=\u001b[39;49m\u001b[43minplace\u001b[49m\u001b[43m)\u001b[49m\n\u001b[0;32m   4134\u001b[0m     \u001b[38;5;28mself\u001b[39m\u001b[38;5;241m.\u001b[39m_clear_item_cache()\n",
      "File \u001b[1;32mD:\\ROSALIND_problems\\venv\\lib\\site-packages\\pandas\\core\\internals\\managers.py:1253\u001b[0m, in \u001b[0;36mBlockManager.iset\u001b[1;34m(self, loc, value, inplace)\u001b[0m\n\u001b[0;32m   1251\u001b[0m     removed_blknos\u001b[38;5;241m.\u001b[39mappend(blkno_l)\n\u001b[0;32m   1252\u001b[0m \u001b[38;5;28;01melse\u001b[39;00m:\n\u001b[1;32m-> 1253\u001b[0m     nb \u001b[38;5;241m=\u001b[39m \u001b[43mblk\u001b[49m\u001b[38;5;241;43m.\u001b[39;49m\u001b[43mdelete\u001b[49m\u001b[43m(\u001b[49m\u001b[43mblk_locs\u001b[49m\u001b[43m)\u001b[49m\n\u001b[0;32m   1254\u001b[0m     blocks_tup \u001b[38;5;241m=\u001b[39m (\n\u001b[0;32m   1255\u001b[0m         \u001b[38;5;28mself\u001b[39m\u001b[38;5;241m.\u001b[39mblocks[:blkno_l] \u001b[38;5;241m+\u001b[39m (nb,) \u001b[38;5;241m+\u001b[39m \u001b[38;5;28mself\u001b[39m\u001b[38;5;241m.\u001b[39mblocks[blkno_l \u001b[38;5;241m+\u001b[39m \u001b[38;5;241m1\u001b[39m :]\n\u001b[0;32m   1256\u001b[0m     )\n\u001b[0;32m   1257\u001b[0m     \u001b[38;5;28mself\u001b[39m\u001b[38;5;241m.\u001b[39mblocks \u001b[38;5;241m=\u001b[39m blocks_tup\n",
      "File \u001b[1;32mD:\\ROSALIND_problems\\venv\\lib\\site-packages\\pandas\\core\\internals\\blocks.py:1919\u001b[0m, in \u001b[0;36mNumpyBlock.delete\u001b[1;34m(self, loc)\u001b[0m\n\u001b[0;32m   1918\u001b[0m \u001b[38;5;28;01mdef\u001b[39;00m \u001b[38;5;21mdelete\u001b[39m(\u001b[38;5;28mself\u001b[39m, loc) \u001b[38;5;241m-\u001b[39m\u001b[38;5;241m>\u001b[39m Block:\n\u001b[1;32m-> 1919\u001b[0m     values \u001b[38;5;241m=\u001b[39m \u001b[43mnp\u001b[49m\u001b[38;5;241;43m.\u001b[39;49m\u001b[43mdelete\u001b[49m\u001b[43m(\u001b[49m\u001b[38;5;28;43mself\u001b[39;49m\u001b[38;5;241;43m.\u001b[39;49m\u001b[43mvalues\u001b[49m\u001b[43m,\u001b[49m\u001b[43m \u001b[49m\u001b[43mloc\u001b[49m\u001b[43m,\u001b[49m\u001b[43m \u001b[49m\u001b[38;5;241;43m0\u001b[39;49m\u001b[43m)\u001b[49m\n\u001b[0;32m   1920\u001b[0m     mgr_locs \u001b[38;5;241m=\u001b[39m \u001b[38;5;28mself\u001b[39m\u001b[38;5;241m.\u001b[39m_mgr_locs\u001b[38;5;241m.\u001b[39mdelete(loc)\n\u001b[0;32m   1921\u001b[0m     \u001b[38;5;28;01mreturn\u001b[39;00m \u001b[38;5;28mtype\u001b[39m(\u001b[38;5;28mself\u001b[39m)(values, placement\u001b[38;5;241m=\u001b[39mmgr_locs, ndim\u001b[38;5;241m=\u001b[39m\u001b[38;5;28mself\u001b[39m\u001b[38;5;241m.\u001b[39mndim)\n",
      "File \u001b[1;32m<__array_function__ internals>:180\u001b[0m, in \u001b[0;36mdelete\u001b[1;34m(*args, **kwargs)\u001b[0m\n",
      "File \u001b[1;32mD:\\ROSALIND_problems\\venv\\lib\\site-packages\\numpy\\lib\\function_base.py:5185\u001b[0m, in \u001b[0;36mdelete\u001b[1;34m(arr, obj, axis)\u001b[0m\n\u001b[0;32m   5182\u001b[0m     slobj[axis] \u001b[38;5;241m=\u001b[39m keep\n\u001b[0;32m   5183\u001b[0m     new \u001b[38;5;241m=\u001b[39m arr[\u001b[38;5;28mtuple\u001b[39m(slobj)]\n\u001b[1;32m-> 5185\u001b[0m \u001b[38;5;28;01mif\u001b[39;00m wrap:\n\u001b[0;32m   5186\u001b[0m     \u001b[38;5;28;01mreturn\u001b[39;00m wrap(new)\n\u001b[0;32m   5187\u001b[0m \u001b[38;5;28;01melse\u001b[39;00m:\n",
      "\u001b[1;31mKeyboardInterrupt\u001b[0m: "
     ]
    }
   ],
   "source": [
    " #drop the coloumns which contains too many NAN if we have many NANs ( DON't UDNERSTAND THE CODE)\n",
    "X2 = X1.dropna(thresh= 10, axis=1)\n",
    "len(X2.columns)\n",
    "X2 = X1.fillna(X1.mean())\n",
    "X2.isna().sum().sum()\n"
   ]
  },
  {
   "cell_type": "markdown",
   "id": "871891e1-62c5-44bd-9749-220d218443d4",
   "metadata": {},
   "source": [
    "#### Apply treshold based on expression "
   ]
  },
  {
   "cell_type": "code",
   "execution_count": null,
   "id": "9f954597-dab7-41f1-be02-0aca0b2123cf",
   "metadata": {},
   "outputs": [],
   "source": []
  },
  {
   "cell_type": "code",
   "execution_count": 88,
   "id": "5404dcf3-3f88-48cb-8352-300daa07f464",
   "metadata": {
    "tags": []
   },
   "outputs": [],
   "source": [
    "########## normalization ###########\n",
    "scaler =  preprocessing.StandardScaler().fit(X1)\n",
    "data = scaler.transform(X1)\n",
    "# log2 scaler\n",
    "#data = np.log2(X1)\n",
    "#print(data)"
   ]
  },
  {
   "cell_type": "code",
   "execution_count": 91,
   "id": "9545b6bc-6da9-4a89-a006-b3df2fee9d0f",
   "metadata": {
    "collapsed": true,
    "jupyter": {
     "outputs_hidden": true
    },
    "tags": []
   },
   "outputs": [
    {
     "name": "stdout",
     "output_type": "stream",
     "text": [
      "<class 'numpy.ndarray'>\n",
      "(427, 17072)\n"
     ]
    },
    {
     "data": {
      "text/plain": [
       "array([[-0.85546143, -0.99808998, -0.1062205 , ..., -0.06621453,\n",
       "        -0.08932791, -0.04845016],\n",
       "       [-0.70240804, -0.41429671, -0.1062205 , ..., -0.06621453,\n",
       "        -0.08932791, -0.04845016],\n",
       "       [-0.791364  , -0.39806971, -0.1062205 , ..., -0.06621453,\n",
       "        -0.08932791, -0.04845016],\n",
       "       ...,\n",
       "       [ 0.56357284,  1.63449286, -0.1062205 , ..., -0.06621453,\n",
       "        -0.08932791, -0.04845016],\n",
       "       [-0.47865866,  0.97891961, -0.1062205 , ..., -0.06621453,\n",
       "        -0.08932791, -0.04845016],\n",
       "       [ 2.26951635,  0.4724223 , -0.1062205 , ..., -0.06621453,\n",
       "        -0.08932791, -0.04845016]])"
      ]
     },
     "execution_count": 91,
     "metadata": {},
     "output_type": "execute_result"
    }
   ],
   "source": [
    "print(type(data))\n",
    "print(data.shape)\n",
    "data\n"
   ]
  },
  {
   "cell_type": "code",
   "execution_count": 29,
   "id": "a02661b0-d3da-4e94-a9fa-7344c04fa650",
   "metadata": {
    "collapsed": true,
    "jupyter": {
     "outputs_hidden": true
    },
    "tags": []
   },
   "outputs": [
    {
     "ename": "IndexError",
     "evalue": "arrays used as indices must be of integer (or boolean) type",
     "output_type": "error",
     "traceback": [
      "\u001b[1;31m---------------------------------------------------------------------------\u001b[0m",
      "\u001b[1;31mIndexError\u001b[0m                                Traceback (most recent call last)",
      "Cell \u001b[1;32mIn [29], line 2\u001b[0m\n\u001b[0;32m      1\u001b[0m \u001b[38;5;66;03m# set threshold, delete the column if the mean<0.5 nad the std<0.3\u001b[39;00m\n\u001b[1;32m----> 2\u001b[0m data1 \u001b[38;5;241m=\u001b[39m data[[c \u001b[38;5;28;01mfor\u001b[39;00m c \u001b[38;5;129;01min\u001b[39;00m \u001b[38;5;28mlist\u001b[39m(data)\n\u001b[0;32m      3\u001b[0m        \u001b[38;5;28;01mif\u001b[39;00m data[c]\u001b[38;5;241m.\u001b[39mmean()\u001b[38;5;241m>\u001b[39m\u001b[38;5;241m=\u001b[39m\u001b[38;5;241m0.5\u001b[39m \u001b[38;5;129;01mand\u001b[39;00m data[c]\u001b[38;5;241m.\u001b[39mstd()\u001b[38;5;241m>\u001b[39m\u001b[38;5;241m=\u001b[39m\u001b[38;5;241m0.3\u001b[39m]]\n\u001b[0;32m      4\u001b[0m \u001b[38;5;28mlen\u001b[39m(data1\u001b[38;5;241m.\u001b[39mcolumns)\n",
      "Cell \u001b[1;32mIn [29], line 3\u001b[0m, in \u001b[0;36m<listcomp>\u001b[1;34m(.0)\u001b[0m\n\u001b[0;32m      1\u001b[0m \u001b[38;5;66;03m# set threshold, delete the column if the mean<0.5 nad the std<0.3\u001b[39;00m\n\u001b[0;32m      2\u001b[0m data1 \u001b[38;5;241m=\u001b[39m data[[c \u001b[38;5;28;01mfor\u001b[39;00m c \u001b[38;5;129;01min\u001b[39;00m \u001b[38;5;28mlist\u001b[39m(data)\n\u001b[1;32m----> 3\u001b[0m        \u001b[38;5;28;01mif\u001b[39;00m \u001b[43mdata\u001b[49m\u001b[43m[\u001b[49m\u001b[43mc\u001b[49m\u001b[43m]\u001b[49m\u001b[38;5;241m.\u001b[39mmean()\u001b[38;5;241m>\u001b[39m\u001b[38;5;241m=\u001b[39m\u001b[38;5;241m0.5\u001b[39m \u001b[38;5;129;01mand\u001b[39;00m data[c]\u001b[38;5;241m.\u001b[39mstd()\u001b[38;5;241m>\u001b[39m\u001b[38;5;241m=\u001b[39m\u001b[38;5;241m0.3\u001b[39m]]\n\u001b[0;32m      4\u001b[0m \u001b[38;5;28mlen\u001b[39m(data1\u001b[38;5;241m.\u001b[39mcolumns)\n",
      "\u001b[1;31mIndexError\u001b[0m: arrays used as indices must be of integer (or boolean) type"
     ]
    }
   ],
   "source": [
    "# set threshold, delete the column if the mean<0.5 nad the std<0.3\n",
    "#data1 = data[[c for c in list(data)\n",
    "      # if data[c].mean()>=0.5 and data[c].std()>=0.3]]\n",
    "#len(data1.columns)"
   ]
  },
  {
   "cell_type": "code",
   "execution_count": 16,
   "id": "5e939ccf-a347-470a-b241-e29504527699",
   "metadata": {},
   "outputs": [],
   "source": [
    "#data1 = data1.to_numpy()"
   ]
  },
  {
   "cell_type": "code",
   "execution_count": 87,
   "id": "04e9a2d8-8d4d-4787-afc3-60041a8e9b8b",
   "metadata": {},
   "outputs": [
    {
     "data": {
      "text/plain": [
       "<matplotlib.collections.PathCollection at 0x1e6b20d3f10>"
      ]
     },
     "execution_count": 87,
     "metadata": {},
     "output_type": "execute_result"
    },
    {
     "data": {
      "image/png": "[encoded data removed]",
      "text/plain": [
       "<Figure size 640x480 with 1 Axes>"
      ]
     },
     "metadata": {},
     "output_type": "display_data"
    }
   ],
   "source": [
    "# visulaize the data before scaler\n",
    "plt.scatter(X1.iloc[:,2],X1.iloc[:,4],c=classes)"
   ]
  },
  {
   "cell_type": "code",
   "execution_count": 56,
   "id": "23ec966d-7d6a-40df-984b-931587e42f56",
   "metadata": {},
   "outputs": [
    {
     "data": {
      "text/plain": [
       "<matplotlib.collections.PathCollection at 0x1e6a82f3cd0>"
      ]
     },
     "execution_count": 56,
     "metadata": {},
     "output_type": "execute_result"
    },
    {
     "data": {
      "image/png": "[encoded data removed]",
      "text/plain": [
       "<Figure size 640x480 with 1 Axes>"
      ]
     },
     "metadata": {},
     "output_type": "display_data"
    }
   ],
   "source": [
    "#after scaler\n",
    "plt.scatter(data[:,2],data[:,4],c=classes)"
   ]
  },
  {
   "cell_type": "code",
   "execution_count": 96,
   "id": "3842ee5c-ce2c-44ed-9803-62420010998d",
   "metadata": {},
   "outputs": [
    {
     "name": "stdout",
     "output_type": "stream",
     "text": [
      "(298, 5)\n",
      "(129, 5)\n",
      "(298, 17072)\n",
      "(129, 17072)\n",
      "17072\n"
     ]
    }
   ],
   "source": [
    "#Data spliting\n",
    "x_train, x_test, y_train, y_test = train_test_split(data, labels, test_size=0.3, random_state=42) \n",
    "print(y_train.shape)\n",
    "print(y_test.shape)\n",
    "print(x_train.shape)\n",
    "print(x_test.shape)\n",
    "print(x_train.shape[1])\n",
    "\n",
    "# classes_train = np_utils.to_categorical(y_train)\n",
    "# classes_test = np_utils.to_categorical(y_test)"
   ]
  },
  {
   "cell_type": "code",
   "execution_count": 20,
   "id": "31ac11db-2ee7-497c-a6e0-0986631461ca",
   "metadata": {},
   "outputs": [
    {
     "data": {
      "text/plain": [
       "(427, 5)"
      ]
     },
     "execution_count": 20,
     "metadata": {},
     "output_type": "execute_result"
    }
   ],
   "source": [
    "labels.shape"
   ]
  },
  {
   "cell_type": "code",
   "execution_count": 97,
   "id": "d768a1bc-c62f-4a8c-8dbe-790874c624c1",
   "metadata": {},
   "outputs": [],
   "source": [
    "def creat_model():\n",
    "    # Create & train the Deep MLP model with 5 hidden layers  \n",
    "    model = Sequential()\n",
    "\n",
    "    # Add the hidden layers and the regulizers\n",
    "    nb_features = data1.shape[1]\n",
    "    model.add(Dense(10,input_dim = nb_features, activation = 'relu'))\n",
    "\n",
    "    model.add(Dense(8, activation='relu'))\n",
    "\n",
    "    model.add(Dense(4, activation='relu'))\n",
    "\n",
    "    model.add(Dense(5, activation='softmax'))\n",
    "\n",
    "\n",
    "    # Compile the model for a multi-class classification problem\n",
    "    model.compile(optimizer='SGD',\n",
    "                  loss='categorical_crossentropy',\n",
    "                  metrics=['accuracy'])\n",
    "    return model\n"
   ]
  },
  {
   "cell_type": "code",
   "execution_count": 22,
   "id": "76f0f3f0-65d6-450c-9f9c-6baaae6c7d6b",
   "metadata": {},
   "outputs": [],
   "source": [
    "from scikeras.wrappers import KerasClassifier\n",
    "model = KerasClassifier(model=creat_model, verbose=0)"
   ]
  },
  {
   "cell_type": "code",
   "execution_count": null,
   "id": "d519d4d9-9f8d-4406-9c42-3390bb76c39b",
   "metadata": {},
   "outputs": [],
   "source": [
    "from sklearn.model_selection import GridSearchCV\n",
    "size_batch = [100,150,200,250]\n",
    "nb_epochs = [50,100,150,200]\n",
    "param_grid = dict(batch_size=size_batch, epochs=nb_epochs)\n",
    "grid = GridSearchCV(estimator=model, param_grid=param_grid, n_jobs=-1, cv=3)\n",
    "grid_result = grid.fit(data1, labels)"
   ]
  },
  {
   "cell_type": "code",
   "execution_count": 61,
   "id": "8ba8bdf4-70a0-46dc-b409-078d10b12d87",
   "metadata": {},
   "outputs": [
    {
     "name": "stdout",
     "output_type": "stream",
     "text": [
      "Best: 0.838324 using {'batch_size': 100, 'epochs': 50}\n",
      "0.838324 (0.026745) with: {'batch_size': 100, 'epochs': 50}\n",
      "0.838324 (0.026745) with: {'batch_size': 100, 'epochs': 100}\n",
      "0.838324 (0.026745) with: {'batch_size': 100, 'epochs': 150}\n",
      "0.838324 (0.026745) with: {'batch_size': 100, 'epochs': 200}\n",
      "0.838324 (0.026745) with: {'batch_size': 150, 'epochs': 50}\n",
      "0.838324 (0.026745) with: {'batch_size': 150, 'epochs': 100}\n",
      "0.838324 (0.026745) with: {'batch_size': 150, 'epochs': 150}\n",
      "0.838324 (0.026745) with: {'batch_size': 150, 'epochs': 200}\n",
      "0.838324 (0.026745) with: {'batch_size': 200, 'epochs': 50}\n",
      "0.838324 (0.026745) with: {'batch_size': 200, 'epochs': 100}\n",
      "0.838324 (0.026745) with: {'batch_size': 200, 'epochs': 150}\n",
      "0.838324 (0.026745) with: {'batch_size': 200, 'epochs': 200}\n",
      "0.838324 (0.026745) with: {'batch_size': 250, 'epochs': 50}\n",
      "0.838324 (0.026745) with: {'batch_size': 250, 'epochs': 100}\n",
      "0.838324 (0.026745) with: {'batch_size': 250, 'epochs': 150}\n",
      "0.838324 (0.026745) with: {'batch_size': 250, 'epochs': 200}\n"
     ]
    }
   ],
   "source": [
    "# summarize results\n",
    "print(\"Best: %f using %s\" % (grid_result.best_score_, grid_result.best_params_))\n",
    "means = grid_result.cv_results_['mean_test_score']\n",
    "stds = grid_result.cv_results_['std_test_score']\n",
    "params = grid_result.cv_results_['params']\n",
    "for mean, stdev, param in zip(means, stds, params):\n",
    "    print(\"%f (%f) with: %r\" % (mean, stdev, param))"
   ]
  },
  {
   "cell_type": "code",
   "execution_count": 62,
   "id": "9a4cbe9c-4bb8-4c55-a2da-21d3f8989dba",
   "metadata": {},
   "outputs": [],
   "source": [
    "model = creat_model()\n",
    "history = model.fit(x_train, y_train, validation_data=(x_test, y_test), batch_size = 100, epochs=50, verbose=0)"
   ]
  },
  {
   "cell_type": "code",
   "execution_count": 63,
   "id": "1ac359ce-3ccd-4972-adf6-378990026473",
   "metadata": {},
   "outputs": [
    {
     "name": "stdout",
     "output_type": "stream",
     "text": [
      "1/1 [==============================] - 0s 18ms/step - loss: 0.7056 - accuracy: 0.8527\n",
      "Scores on test set: loss=0.7056474685668945 accuracy=0.8527131676673889\n"
     ]
    }
   ],
   "source": [
    "# Evalute the model\n",
    "score = model.evaluate(x_test, y_test, batch_size = 250, verbose = 1)\n",
    "print(\"Scores on test set: loss=%s accuracy=%s\" % tuple(score))\n"
   ]
  },
  {
   "cell_type": "code",
   "execution_count": 64,
   "id": "2b22eaf4-c592-4015-827e-ce808107f1ac",
   "metadata": {},
   "outputs": [
    {
     "data": {
      "image/png": "[encoded data removed]",
      "text/plain": [
       "<Figure size 432x288 with 2 Axes>"
      ]
     },
     "metadata": {
      "needs_background": "light"
     },
     "output_type": "display_data"
    }
   ],
   "source": [
    "# plot the train loss and the validation loss\n",
    "plt.figure(1)\n",
    "plt.subplot(1,2,1)\n",
    "out = np.asarray(history.history['loss'])\n",
    "plt.plot(out, label = 'train loss')\n",
    "plt.legend()\n",
    "\n",
    "plt.subplot(1,2,2)\n",
    "out = np.asarray(history.history['accuracy'])\n",
    "plt.plot(out, label = 'valid accuracy')\n",
    "plt.legend()\n",
    "\n",
    "plt.show()"
   ]
  },
  {
   "cell_type": "markdown",
   "id": "02fd7f85-5161-4f29-bcf1-02fa39fd4d60",
   "metadata": {},
   "source": [
    "<font size=4>Cross Validation</font>"
   ]
  },
  {
   "cell_type": "code",
   "execution_count": 124,
   "id": "9d5f35f1-3447-4194-aefb-77b1f12f40a1",
   "metadata": {},
   "outputs": [
    {
     "name": "stdout",
     "output_type": "stream",
     "text": [
      "WARNING:tensorflow:5 out of the last 10 calls to <function Model.make_predict_function.<locals>.predict_function at 0x7f8f320af3a0> triggered tf.function retracing. Tracing is expensive and the excessive number of tracings could be due to (1) creating @tf.function repeatedly in a loop, (2) passing tensors with different shapes, (3) passing Python objects instead of tensors. For (1), please define your @tf.function outside of the loop. For (2), @tf.function has experimental_relax_shapes=True option that relaxes argument shapes that can avoid unnecessary retracing. For (3), please refer to https://www.tensorflow.org/guide/function#controlling_retracing and https://www.tensorflow.org/api_docs/python/tf/function for  more details.\n",
      "WARNING:tensorflow:6 out of the last 11 calls to <function Model.make_predict_function.<locals>.predict_function at 0x7f8f349ba5e0> triggered tf.function retracing. Tracing is expensive and the excessive number of tracings could be due to (1) creating @tf.function repeatedly in a loop, (2) passing tensors with different shapes, (3) passing Python objects instead of tensors. For (1), please define your @tf.function outside of the loop. For (2), @tf.function has experimental_relax_shapes=True option that relaxes argument shapes that can avoid unnecessary retracing. For (3), please refer to https://www.tensorflow.org/guide/function#controlling_retracing and https://www.tensorflow.org/api_docs/python/tf/function for  more details.\n"
     ]
    }
   ],
   "source": [
    "# %% Model Tuning- Building a Tuned Model with Best Parameters\n",
    "# Creating Tuned Model Object with KerasClassifier\n",
    "# example: https://www.kaggle.com/code/muhammetvarl/keras-multiclass-classification-cross-validation/notebook\n",
    "cv_model = grid_result.best_estimator_\n",
    "# x_train, x_test, y_train, y_test = train_test_split(data1, classes, test_size=0.2, random_state=42)\n",
    "\n",
    "from sklearn.model_selection import KFold\n",
    "from sklearn.model_selection import cross_val_score\n",
    "# K-fold accuracy scores\n",
    "\n",
    "kfold = KFold(n_splits=5, shuffle=True)\n",
    "results = cross_val_score(cv_model, x_test, y_test, cv=kfold,scoring= 'accuracy',verbose=0)"
   ]
  },
  {
   "cell_type": "code",
   "execution_count": 125,
   "id": "39e14d61-a182-4e64-99be-cd1aae52a12b",
   "metadata": {},
   "outputs": [
    {
     "name": "stdout",
     "output_type": "stream",
     "text": [
      "K-fold Cross Validation f1_weighted Results:  [0.88461538 0.80769231 0.84615385 0.88461538 0.84      ]\n",
      "K-fold Cross Validation f1_weighted Results Mean:  0.8526153846153847\n"
     ]
    }
   ],
   "source": [
    "print('K-fold Cross Validation f1_weighted Results: ', results)\n",
    "print('K-fold Cross Validation f1_weighted Results Mean: ', results.mean())"
   ]
  },
  {
   "cell_type": "code",
   "execution_count": 130,
   "id": "e5316cd6-ac67-461a-ab39-501a3ad983fc",
   "metadata": {},
   "outputs": [
    {
     "name": "stdout",
     "output_type": "stream",
     "text": [
      "f1_weighted: 0.784924264538938\n",
      "accuracy: 0.8527131782945736\n"
     ]
    },
    {
     "name": "stderr",
     "output_type": "stream",
     "text": [
      "/Users/meimei/miniconda3/envs/DT/lib/python3.9/site-packages/sklearn/metrics/_classification.py:1599: UndefinedMetricWarning: F-score is ill-defined and being set to 0.0 in labels with no true nor predicted samples. Use `zero_division` parameter to control this behavior.\n",
      "  _warn_prf(average, \"true nor predicted\", \"F-score is\", len(true_sum))\n"
     ]
    }
   ],
   "source": [
    "from sklearn.metrics import classification_report\n",
    "y_test_pred = cv_model.predict(x_test)\n",
    "# %% f1 score\n",
    "import sklearn.metrics as metrics\n",
    "print(\"f1_weighted:\",metrics.f1_score(y_test, y_test_pred,average='weighted'))\n",
    "\n",
    "# %% Accuracy\n",
    "\n",
    "print(\"accuracy:\",metrics.accuracy_score(y_test, y_test_pred))\n"
   ]
  },
  {
   "cell_type": "code",
   "execution_count": 145,
   "id": "1ab1cb94-34dc-4ace-b93b-1e455c2e18b9",
   "metadata": {},
   "outputs": [
    {
     "name": "stdout",
     "output_type": "stream",
     "text": [
      "              precision    recall  f1-score   support\n",
      "\n",
      "           2       0.00      0.00      0.00        18\n",
      "           3       0.00      0.00      0.00         1\n",
      "           4       0.85      1.00      0.92       110\n",
      "\n",
      "    accuracy                           0.85       129\n",
      "   macro avg       0.28      0.33      0.31       129\n",
      "weighted avg       0.73      0.85      0.78       129\n",
      "\n"
     ]
    },
    {
     "name": "stderr",
     "output_type": "stream",
     "text": [
      "/Users/meimei/miniconda3/envs/DT/lib/python3.9/site-packages/sklearn/metrics/_classification.py:1334: UndefinedMetricWarning: Precision and F-score are ill-defined and being set to 0.0 in labels with no predicted samples. Use `zero_division` parameter to control this behavior.\n",
      "  _warn_prf(average, modifier, msg_start, len(result))\n",
      "/Users/meimei/miniconda3/envs/DT/lib/python3.9/site-packages/sklearn/metrics/_classification.py:1334: UndefinedMetricWarning: Precision and F-score are ill-defined and being set to 0.0 in labels with no predicted samples. Use `zero_division` parameter to control this behavior.\n",
      "  _warn_prf(average, modifier, msg_start, len(result))\n",
      "/Users/meimei/miniconda3/envs/DT/lib/python3.9/site-packages/sklearn/metrics/_classification.py:1334: UndefinedMetricWarning: Precision and F-score are ill-defined and being set to 0.0 in labels with no predicted samples. Use `zero_division` parameter to control this behavior.\n",
      "  _warn_prf(average, modifier, msg_start, len(result))\n"
     ]
    }
   ],
   "source": [
    "#%% Confusion Matrix and Classification Report\n",
    "from sklearn.metrics import confusion_matrix, classification_report \n",
    "\n",
    "# Classification Report\n",
    "model_report = classification_report(np.argmax(y_test, axis=1), np.argmax(y_test_pred, axis=1))\n",
    "print(model_report)"
   ]
  },
  {
   "cell_type": "code",
   "execution_count": 144,
   "id": "66a8be8e-85e6-47ae-a52b-7bd8041b5bcd",
   "metadata": {},
   "outputs": [
    {
     "name": "stdout",
     "output_type": "stream",
     "text": [
      "[[  0   0  18]\n",
      " [  0   0   1]\n",
      " [  0   0 110]]\n"
     ]
    }
   ],
   "source": [
    "# from sklearn.metrics import confusion_matrix\n",
    "confusion_matrix_lr2 = confusion_matrix(np.argmax(y_test, axis=1), np.argmax(y_test_pred, axis=1))\n",
    "print(confusion_matrix_lr2)"
   ]
  },
  {
   "cell_type": "code",
   "execution_count": 153,
   "id": "c3faf93a-1aed-4243-af01-8e1b309df1c2",
   "metadata": {},
   "outputs": [
    {
     "data": {
      "text/plain": [
       "{2, 3, 4}"
      ]
     },
     "execution_count": 153,
     "metadata": {},
     "output_type": "execute_result"
    }
   ],
   "source": [
    "set(np.argmax(y_test, axis=1).tolist())"
   ]
  },
  {
   "cell_type": "code",
   "execution_count": 154,
   "id": "60f9f7c3-600f-468a-ab22-c8a4e0574f16",
   "metadata": {},
   "outputs": [],
   "source": [
    "index = set(np.argmax(y_test, axis=1).tolist())\n",
    "\n",
    "cm_df = pd.DataFrame(confusion_matrix_lr2,\n",
    "                     index = index, \n",
    "                     columns = index)"
   ]
  },
  {
   "cell_type": "code",
   "execution_count": 116,
   "id": "a2f75c76-89c1-4752-8669-3d84d4c9ea0b",
   "metadata": {},
   "outputs": [
    {
     "data": {
      "text/html": [
       "<div>\n",
       "<style scoped>\n",
       "    .dataframe tbody tr th:only-of-type {\n",
       "        vertical-align: middle;\n",
       "    }\n",
       "\n",
       "    .dataframe tbody tr th {\n",
       "        vertical-align: top;\n",
       "    }\n",
       "\n",
       "    .dataframe thead th {\n",
       "        text-align: right;\n",
       "    }\n",
       "</style>\n",
       "<table border=\"1\" class=\"dataframe\">\n",
       "  <thead>\n",
       "    <tr style=\"text-align: right;\">\n",
       "      <th></th>\n",
       "      <th>2.0</th>\n",
       "      <th>3.0</th>\n",
       "      <th>4.0</th>\n",
       "    </tr>\n",
       "  </thead>\n",
       "  <tbody>\n",
       "    <tr>\n",
       "      <th>2.0</th>\n",
       "      <td>0</td>\n",
       "      <td>0</td>\n",
       "      <td>16</td>\n",
       "    </tr>\n",
       "    <tr>\n",
       "      <th>3.0</th>\n",
       "      <td>0</td>\n",
       "      <td>0</td>\n",
       "      <td>1</td>\n",
       "    </tr>\n",
       "    <tr>\n",
       "      <th>4.0</th>\n",
       "      <td>0</td>\n",
       "      <td>0</td>\n",
       "      <td>69</td>\n",
       "    </tr>\n",
       "  </tbody>\n",
       "</table>\n",
       "</div>"
      ],
      "text/plain": [
       "     2.0  3.0  4.0\n",
       "2.0    0    0   16\n",
       "3.0    0    0    1\n",
       "4.0    0    0   69"
      ]
     },
     "execution_count": 116,
     "metadata": {},
     "output_type": "execute_result"
    }
   ],
   "source": [
    "cm_df"
   ]
  },
  {
   "cell_type": "code",
   "execution_count": 155,
   "id": "80d3b4de-9a83-41b2-aea3-41a1cc726df5",
   "metadata": {},
   "outputs": [
    {
     "data": {
      "image/png": "[encoded data removed]",
      "text/plain": [
       "<Figure size 360x288 with 2 Axes>"
      ]
     },
     "metadata": {
      "needs_background": "light"
     },
     "output_type": "display_data"
    }
   ],
   "source": [
    "import seaborn as sns\n",
    "#Plotting the confusion matrix\n",
    "plt.figure(figsize=(5,4))\n",
    "sns.heatmap(cm_df, annot=True)\n",
    "plt.title('Confusion Matrix')\n",
    "plt.ylabel('Actal Values')\n",
    "plt.xlabel('Predicted Values')\n",
    "plt.show()"
   ]
  },
  {
   "cell_type": "code",
   "execution_count": null,
   "id": "a69f7cb8-aaa6-4886-b573-23fe359e2778",
   "metadata": {},
   "outputs": [],
   "source": []
  }
 ],
 "metadata": {
  "kernelspec": {
   "display_name": "Python 3 (ipykernel)",
   "language": "python",
   "name": "python3"
  },
  "language_info": {
   "codemirror_mode": {
    "name": "ipython",
    "version": 3
   },
   "file_extension": ".py",
   "mimetype": "text/x-python",
   "name": "python",
   "nbconvert_exporter": "python",
   "pygments_lexer": "ipython3",
   "version": "3.10.5"
  }
 },
 "nbformat": 4,
 "nbformat_minor": 5
}
